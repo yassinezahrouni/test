{
 "cells": [
  {
   "cell_type": "code",
   "execution_count": 1,
   "metadata": {},
   "outputs": [
    {
     "ename": "ModuleNotFoundError",
     "evalue": "No module named 'GoogleNews'",
     "output_type": "error",
     "traceback": [
      "\u001b[0;31m---------------------------------------------------------------------------\u001b[0m",
      "\u001b[0;31mModuleNotFoundError\u001b[0m                       Traceback (most recent call last)",
      "Cell \u001b[0;32mIn[1], line 1\u001b[0m\n\u001b[0;32m----> 1\u001b[0m \u001b[38;5;28;01mfrom\u001b[39;00m\u001b[38;5;250m \u001b[39m\u001b[38;5;21;01mGoogleNews\u001b[39;00m\u001b[38;5;250m \u001b[39m\u001b[38;5;28;01mimport\u001b[39;00m GoogleNews\n\u001b[1;32m      2\u001b[0m \u001b[38;5;28;01mimport\u001b[39;00m\u001b[38;5;250m \u001b[39m\u001b[38;5;21;01mpandas\u001b[39;00m\u001b[38;5;250m \u001b[39m\u001b[38;5;28;01mas\u001b[39;00m\u001b[38;5;250m \u001b[39m\u001b[38;5;21;01mpd\u001b[39;00m\n\u001b[1;32m      4\u001b[0m \u001b[38;5;66;03m# Define the Excel file path\u001b[39;00m\n",
      "\u001b[0;31mModuleNotFoundError\u001b[0m: No module named 'GoogleNews'"
     ]
    }
   ],
   "source": [
    "from GoogleNews import GoogleNews\n",
    "import pandas as pd\n",
    "\n",
    "# Define the Excel file path\n",
    "excel_file = \"/Users/yassinezahrouni/coding/test/CountryIndexes/DB_SupplyChain_MA.xlsx\"\n",
    "\n",
    "# Get the data from the DB & Read the sheets for suppliers and shipments\n",
    "suppliers_df = pd.read_excel(excel_file, sheet_name=\"Suppliers\", engine=\"openpyxl\")\n",
    "segments_df = pd.read_excel(excel_file, sheet_name=\"ShipmentSegments\", engine=\"openpyxl\")\n",
    "\n",
    "# Existing domains to exclude\n",
    "exclude_domains = [\"x.com\", \"facebook.com\", \"instagram.com\", \"tiktok.com\", \"linkedin.com\", \"reddit.com\", \"pinterest.com\", \"wikipedia.org\"]"
   ]
  },
  {
   "cell_type": "code",
   "execution_count": null,
   "metadata": {},
   "outputs": [],
   "source": [
    "\n",
    "def perform_news_search(query, lang, region):\n",
    "    gNews = GoogleNews(period='1d', lang=lang, region=region)  # Limit results to the last month\n",
    "    gNews.search(query)\n",
    "    return gNews.result()\n",
    "\n",
    "def display_results(results, search_term, sort_type):\n",
    "    if results:\n",
    "        print(f'\\nTop news results for {search_term} (last month, sorted by {sort_type}):\\n')\n",
    "        for item in results:\n",
    "            title = item.get('title')\n",
    "            link = item.get('link')\n",
    "            snippet = item.get('desc')\n",
    "            print(f'Title: {title}\\nLink: {link}\\nSnippet: {snippet}\\n')\n",
    "    else:\n",
    "        print(f'No recent results found for {search_term} ({sort_type} sorting).')"
   ]
  },
  {
   "cell_type": "code",
   "execution_count": null,
   "metadata": {},
   "outputs": [],
   "source": [
    "# Search for suppliers\n",
    "for supplier_name in suppliers_df['name']:\n",
    "    results = perform_news_search(supplier_name, 'en', 'US')\n",
    "    display_results(results, supplier_name, 'relevance')\n",
    "\n",
    "# Search for roads in shipments\n",
    "for _, row in segments_df.iterrows():\n",
    "    country_code = row['Country of roads']\n",
    "    roads = row['Roads'].split(';')\n",
    "    \n",
    "    for road in roads:\n",
    "        results = perform_news_search(road, 'auto', country_code)  # Auto-detect language, region set to country\n",
    "        display_results(results, road, 'relevance')"
   ]
  }
 ],
 "metadata": {
  "kernelspec": {
   "display_name": "Python 3",
   "language": "python",
   "name": "python3"
  },
  "language_info": {
   "codemirror_mode": {
    "name": "ipython",
    "version": 3
   },
   "file_extension": ".py",
   "mimetype": "text/x-python",
   "name": "python",
   "nbconvert_exporter": "python",
   "pygments_lexer": "ipython3",
   "version": "3.9.6"
  }
 },
 "nbformat": 4,
 "nbformat_minor": 2
}
